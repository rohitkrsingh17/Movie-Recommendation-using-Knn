{
  "nbformat": 4,
  "nbformat_minor": 0,
  "metadata": {
    "colab": {
      "provenance": []
    },
    "kernelspec": {
      "name": "python3",
      "display_name": "Python 3"
    },
    "language_info": {
      "name": "python"
    }
  },
  "cells": [
    {
      "cell_type": "code",
      "source": [
        "pip install fuzzywuzzy\n"
      ],
      "metadata": {
        "colab": {
          "base_uri": "https://localhost:8080/"
        },
        "id": "P43rv12DPbY3",
        "outputId": "da7ee31e-291f-436e-c2f2-bc67c6f410a9"
      },
      "execution_count": null,
      "outputs": [
        {
          "output_type": "stream",
          "name": "stdout",
          "text": [
            "Collecting fuzzywuzzy\n",
            "  Downloading fuzzywuzzy-0.18.0-py2.py3-none-any.whl (18 kB)\n",
            "Installing collected packages: fuzzywuzzy\n",
            "Successfully installed fuzzywuzzy-0.18.0\n"
          ]
        }
      ]
    },
    {
      "cell_type": "code",
      "source": [
        "import pandas as pd\n",
        "from scipy.sparse import csr_matrix\n",
        "from sklearn.neighbors import NearestNeighbors\n",
        "from fuzzywuzzy import process\n",
        "\n",
        "# Load data\n",
        "movies = pd.read_csv('movies.csv', usecols=['movieId', 'title'])\n",
        "ratings = pd.read_csv('ratings.csv', usecols=['userId', 'movieId', 'rating'])\n",
        "\n",
        "# Create pivot table\n",
        "movies_users = ratings.pivot(index='movieId', columns='userId', values='rating').fillna(0)\n",
        "\n",
        "# Create sparse matrix\n",
        "mat_movies = csr_matrix(movies_users.values)\n",
        "\n",
        "# Build model\n",
        "model = NearestNeighbors(metric='cosine', algorithm='brute', n_neighbors=20)\n",
        "model.fit(mat_movies)\n",
        "def recommend_movies(movie_title, n=10):\n",
        "    try:\n",
        "        # Find the index of the movie\n",
        "        movie_indices = movies[movies['title'].str.lower().str.contains(movie_title.lower().strip())].index.tolist()\n",
        "\n",
        "        if not movie_indices:\n",
        "            raise IndexError\n",
        "\n",
        "        # Get nearest neighbors for the first matched movie\n",
        "        distances, indices = model.kneighbors(mat_movies[movie_indices[0]], n_neighbors=n+1)\n",
        "\n",
        "        # Get recommended movie indices excluding the input movie itself\n",
        "        recommended_movie_indices = indices.flatten()[1:]\n",
        "\n",
        "        # Get recommended movies titles\n",
        "        recommended_movies = [movies.iloc[i]['title'] for i in recommended_movie_indices]\n",
        "\n",
        "        if recommended_movies:\n",
        "            print(\"Recommended movies for\", movie_title, \"are:\")\n",
        "            for movie in recommended_movies:\n",
        "                print(movie)\n",
        "        else:\n",
        "            print(\"No similar movies found for\", movie_title)\n",
        "\n",
        "        return recommended_movies\n",
        "    except IndexError:\n",
        "        print(\"Movie not found in the dataset. Please try a different movie title.\")\n",
        "        return []\n",
        "\n",
        "# Example usage\n",
        "input_movie = \"Toy Story\"\n",
        "recommend_movies(input_movie)\n"
      ],
      "metadata": {
        "colab": {
          "base_uri": "https://localhost:8080/"
        },
        "id": "uqaMD7P5Pfoq",
        "outputId": "655daf83-5725-41fc-b7c5-e730ee02186d"
      },
      "execution_count": null,
      "outputs": [
        {
          "output_type": "stream",
          "name": "stdout",
          "text": [
            "Recommended movies for Toy Story are:\n",
            "'night Mother (1986)\n",
            "Jurassic Park (1993)\n",
            "Independence Day (a.k.a. ID4) (1996)\n",
            "Star Wars: Episode IV - A New Hope (1977)\n",
            "Forrest Gump (1994)\n",
            "Lion King, The (1994)\n",
            "Once Upon a Time in the West (C'era una volta il West) (1968)\n",
            "Mission: Impossible (1996)\n",
            "Diva (1981)\n",
            "Arsenic and Old Lace (1944)\n"
          ]
        },
        {
          "output_type": "execute_result",
          "data": {
            "text/plain": [
              "[\"'night Mother (1986)\",\n",
              " 'Jurassic Park (1993)',\n",
              " 'Independence Day (a.k.a. ID4) (1996)',\n",
              " 'Star Wars: Episode IV - A New Hope (1977)',\n",
              " 'Forrest Gump (1994)',\n",
              " 'Lion King, The (1994)',\n",
              " \"Once Upon a Time in the West (C'era una volta il West) (1968)\",\n",
              " 'Mission: Impossible (1996)',\n",
              " 'Diva (1981)',\n",
              " 'Arsenic and Old Lace (1944)']"
            ]
          },
          "metadata": {},
          "execution_count": 11
        }
      ]
    }
  ]
}